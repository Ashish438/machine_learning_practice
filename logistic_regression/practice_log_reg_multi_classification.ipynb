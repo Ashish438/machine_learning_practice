{
 "cells": [
  {
   "cell_type": "code",
   "execution_count": 7,
   "metadata": {},
   "outputs": [],
   "source": [
    "from sklearn.datasets import load_iris\n",
    "iris = load_iris()"
   ]
  },
  {
   "cell_type": "code",
   "execution_count": 8,
   "metadata": {},
   "outputs": [
    {
     "data": {
      "text/plain": [
       "['DESCR', 'data', 'feature_names', 'filename', 'target', 'target_names']"
      ]
     },
     "execution_count": 8,
     "metadata": {},
     "output_type": "execute_result"
    }
   ],
   "source": [
    "dir(iris)"
   ]
  },
  {
   "cell_type": "code",
   "execution_count": 12,
   "metadata": {},
   "outputs": [
    {
     "data": {
      "text/plain": [
       "array([[5.1, 3.5, 1.4, 0.2],\n",
       "       [4.9, 3. , 1.4, 0.2],\n",
       "       [4.7, 3.2, 1.3, 0.2],\n",
       "       [4.6, 3.1, 1.5, 0.2],\n",
       "       [5. , 3.6, 1.4, 0.2]])"
      ]
     },
     "execution_count": 12,
     "metadata": {},
     "output_type": "execute_result"
    }
   ],
   "source": [
    "iris.data[0:5]"
   ]
  },
  {
   "cell_type": "code",
   "execution_count": 14,
   "metadata": {},
   "outputs": [
    {
     "data": {
      "text/plain": [
       "array([0, 0, 0, 0, 0, 0, 0, 0, 0, 0, 0, 0, 0, 0, 0, 0, 0, 0, 0, 0, 0, 0,\n",
       "       0, 0, 0, 0, 0, 0, 0, 0, 0, 0, 0, 0, 0, 0, 0, 0, 0, 0, 0, 0, 0, 0,\n",
       "       0, 0, 0, 0, 0, 0, 1, 1, 1, 1, 1, 1, 1, 1, 1, 1, 1, 1, 1, 1, 1, 1,\n",
       "       1, 1, 1, 1, 1, 1, 1, 1, 1, 1, 1, 1, 1, 1, 1, 1, 1, 1, 1, 1, 1, 1,\n",
       "       1, 1, 1, 1, 1, 1, 1, 1, 1, 1, 1, 1, 2, 2, 2, 2, 2, 2, 2, 2, 2, 2,\n",
       "       2, 2, 2, 2, 2, 2, 2, 2, 2, 2, 2, 2, 2, 2, 2, 2, 2, 2, 2, 2, 2, 2,\n",
       "       2, 2, 2, 2, 2, 2, 2, 2, 2, 2, 2, 2, 2, 2, 2, 2, 2, 2])"
      ]
     },
     "execution_count": 14,
     "metadata": {},
     "output_type": "execute_result"
    }
   ],
   "source": [
    "iris.target # there are 3 classes"
   ]
  },
  {
   "cell_type": "code",
   "execution_count": 15,
   "metadata": {},
   "outputs": [],
   "source": [
    "from sklearn.model_selection import train_test_split\n",
    "x_train, x_test, y_train, y_test = train_test_split(iris.data, iris.target, test_size = 0.2)"
   ]
  },
  {
   "cell_type": "code",
   "execution_count": 18,
   "metadata": {},
   "outputs": [
    {
     "data": {
      "text/plain": [
       "LogisticRegression(C=1.0, class_weight=None, dual=False, fit_intercept=True,\n",
       "                   intercept_scaling=1, l1_ratio=None, max_iter=1000,\n",
       "                   multi_class='auto', n_jobs=None, penalty='l2',\n",
       "                   random_state=None, solver='lbfgs', tol=0.0001, verbose=0,\n",
       "                   warm_start=False)"
      ]
     },
     "execution_count": 18,
     "metadata": {},
     "output_type": "execute_result"
    }
   ],
   "source": [
    "from sklearn.linear_model import LogisticRegression\n",
    "log_reg_model = LogisticRegression(max_iter = 1000)\n",
    "log_reg_model.fit(x_train, y_train)"
   ]
  },
  {
   "cell_type": "code",
   "execution_count": 19,
   "metadata": {},
   "outputs": [
    {
     "data": {
      "text/plain": [
       "1.0"
      ]
     },
     "execution_count": 19,
     "metadata": {},
     "output_type": "execute_result"
    }
   ],
   "source": [
    "log_reg_model.score(x_test, y_test)"
   ]
  },
  {
   "cell_type": "code",
   "execution_count": 20,
   "metadata": {},
   "outputs": [
    {
     "data": {
      "text/plain": [
       "1.0"
      ]
     },
     "execution_count": 20,
     "metadata": {},
     "output_type": "execute_result"
    }
   ],
   "source": [
    "from sklearn.metrics import accuracy_score\n",
    "y_pred = log_reg_model.predict(x_test)\n",
    "accuracy_score(y_test, y_pred)"
   ]
  },
  {
   "cell_type": "code",
   "execution_count": 23,
   "metadata": {},
   "outputs": [
    {
     "data": {
      "text/plain": [
       "array([[9.55251078e-01, 4.47487414e-02, 1.80461569e-07],\n",
       "       [6.86923879e-03, 8.11885552e-01, 1.81245209e-01],\n",
       "       [9.81955230e-01, 1.80447373e-02, 3.24038113e-08],\n",
       "       [1.43897907e-03, 4.15073525e-01, 5.83487496e-01],\n",
       "       [2.28948306e-04, 1.86562077e-01, 8.13208975e-01],\n",
       "       [3.79179326e-04, 1.88597742e-01, 8.11023078e-01],\n",
       "       [9.75692911e-01, 2.43070009e-02, 8.78579197e-08],\n",
       "       [9.66515716e-01, 3.34841782e-02, 1.06192490e-07],\n",
       "       [9.80415440e-01, 1.95845262e-02, 3.39427006e-08],\n",
       "       [9.66782732e-01, 3.32171923e-02, 7.61677807e-08],\n",
       "       [6.89310682e-02, 9.26700140e-01, 4.36879200e-03],\n",
       "       [9.64158394e-01, 3.58412670e-02, 3.38698224e-07],\n",
       "       [9.76046132e-01, 2.39538276e-02, 4.03162303e-08],\n",
       "       [9.95310505e-07, 1.73972299e-02, 9.82601775e-01],\n",
       "       [9.84038994e-01, 1.59609974e-02, 8.43423408e-09],\n",
       "       [9.63270770e-01, 3.67290777e-02, 1.52525429e-07],\n",
       "       [8.93977833e-04, 2.17862624e-01, 7.81243398e-01],\n",
       "       [1.73619535e-06, 2.57198790e-02, 9.74278385e-01],\n",
       "       [2.24643278e-02, 9.28276563e-01, 4.92591093e-02],\n",
       "       [3.71084889e-03, 8.92904795e-01, 1.03384356e-01],\n",
       "       [1.21063699e-02, 7.51441173e-01, 2.36452457e-01],\n",
       "       [7.79387184e-04, 4.99566826e-01, 4.99653787e-01],\n",
       "       [1.29331866e-05, 2.85456575e-02, 9.71441409e-01],\n",
       "       [9.73700226e-01, 2.62996896e-02, 8.39832199e-08],\n",
       "       [1.16219746e-02, 9.71164059e-01, 1.72139665e-02],\n",
       "       [9.84997961e-01, 1.50020058e-02, 3.28855401e-08],\n",
       "       [6.27810752e-02, 9.28910230e-01, 8.30869443e-03],\n",
       "       [9.72085000e-01, 2.79149490e-02, 5.10600701e-08],\n",
       "       [1.07035925e-02, 8.90094341e-01, 9.92020666e-02],\n",
       "       [9.61138559e-01, 3.88613568e-02, 8.46169616e-08]])"
      ]
     },
     "execution_count": 23,
     "metadata": {},
     "output_type": "execute_result"
    }
   ],
   "source": [
    "log_reg_model.predict_proba(x_test)"
   ]
  },
  {
   "cell_type": "code",
   "execution_count": 24,
   "metadata": {},
   "outputs": [
    {
     "data": {
      "text/plain": [
       "array([0, 1, 0, 2, 2, 2, 0, 0, 0, 0, 1, 0, 0, 2, 0, 0, 2, 2, 1, 1, 1, 2,\n",
       "       2, 0, 1, 0, 1, 0, 1, 0])"
      ]
     },
     "execution_count": 24,
     "metadata": {},
     "output_type": "execute_result"
    }
   ],
   "source": [
    "log_reg_model.predict(x_test) # 100 % correct predictions"
   ]
  }
 ],
 "metadata": {
  "kernelspec": {
   "display_name": "Python 3",
   "language": "python",
   "name": "python3"
  },
  "language_info": {
   "codemirror_mode": {
    "name": "ipython",
    "version": 3
   },
   "file_extension": ".py",
   "mimetype": "text/x-python",
   "name": "python",
   "nbconvert_exporter": "python",
   "pygments_lexer": "ipython3",
   "version": "3.6.4"
  }
 },
 "nbformat": 4,
 "nbformat_minor": 2
}
