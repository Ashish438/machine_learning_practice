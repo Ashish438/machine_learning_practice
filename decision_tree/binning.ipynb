{
 "cells": [
  {
   "cell_type": "code",
   "execution_count": null,
   "metadata": {},
   "outputs": [],
   "source": [
    "import numpy as np  \n",
    "import math\n",
    "from sklearn.datasets import load_iris\n",
    "from sklearn import datasets, linear_model, metrics \n",
    "  \n",
    "# load iris data set\n",
    "dataset = load_iris()   \n",
    "a = dataset.data\n",
    "a[:,1]"
   ]
  },
  {
   "cell_type": "code",
   "execution_count": null,
   "metadata": {},
   "outputs": [],
   "source": [
    "b = np.zeros(150)\n",
    "  \n",
    "# take 1st column among 4 column of data set \n",
    "for i in range (150):\n",
    "    b[i]=a[i,1]   \n",
    "b"
   ]
  },
  {
   "cell_type": "code",
   "execution_count": null,
   "metadata": {},
   "outputs": [],
   "source": [
    "b=np.sort(b)  #sort the array\n",
    "  \n",
    "# create bins\n",
    "bin1=np.zeros((30,5)) \n",
    "bin2=np.zeros((30,5))\n",
    "bin3=np.zeros((30,5))\n",
    "  \n",
    "# Bin mean\n",
    "for i in range (0,150,5):\n",
    "    k=int(i/5)\n",
    "    mean=(b[i] + b[i+1] + b[i+2] + b[i+3] + b[i+4])/5\n",
    "    for j in range(5):\n",
    "        bin1[k,j]=mean\n",
    "#print(\"Bin Mean: \\n\",bin1)\n",
    "bin1.reshape(150)\n",
    "# Bin boundaries\n",
    "for i in range (0,150,5):\n",
    "    k=int(i/5)\n",
    "    for j in range (5):\n",
    "        if (b[i+j]-b[i]) < (b[i+4]-b[i+j]):\n",
    "            bin2[k,j]=b[i]\n",
    "        else:\n",
    "            bin2[k,j]=b[i+4]       \n",
    "#print(\"Bin Boundaries: \\n\",bin2)\n",
    "  \n",
    "# Bin median\n",
    "for i in range (0,150,5):\n",
    "    k=int(i/5)\n",
    "    for j in range (5):\n",
    "        bin3[k,j]=b[i+2]\n",
    "#print(\"Bin Median: \\n\",bin3)\n",
    "\n",
    "bin1.reshape(75,2)"
   ]
  }
 ],
 "metadata": {
  "kernelspec": {
   "display_name": "Python 3",
   "language": "python",
   "name": "python3"
  },
  "language_info": {
   "codemirror_mode": {
    "name": "ipython",
    "version": 3
   },
   "file_extension": ".py",
   "mimetype": "text/x-python",
   "name": "python",
   "nbconvert_exporter": "python",
   "pygments_lexer": "ipython3",
   "version": "3.6.4"
  }
 },
 "nbformat": 4,
 "nbformat_minor": 2
}
